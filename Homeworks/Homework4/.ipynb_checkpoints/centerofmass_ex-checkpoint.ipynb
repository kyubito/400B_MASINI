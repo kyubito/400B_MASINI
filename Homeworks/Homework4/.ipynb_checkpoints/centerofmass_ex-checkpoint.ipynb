{
 "cells": [
  {
   "cell_type": "code",
   "execution_count": 2,
   "metadata": {},
   "outputs": [],
   "source": [
    "# Homework 4\n",
    "# Center of Mass Position and Velocity\n",
    "# Adrien Masini"
   ]
  },
  {
   "cell_type": "markdown",
   "metadata": {},
   "source": [
    "### Keep in mind this is just a template; you don't need to follow every step and feel free to change anything.\n",
    "### We also strongly encourage you to try to develop your own method to solve the homework."
   ]
  },
  {
   "cell_type": "code",
   "execution_count": 3,
   "metadata": {
    "ExecuteTime": {
     "end_time": "2020-02-04T23:59:21.657237Z",
     "start_time": "2020-02-04T23:59:21.653687Z"
    }
   },
   "outputs": [],
   "source": [
    "# import modules\n",
    "import numpy as np\n",
    "import astropy.units as u\n",
    "import astropy.table as tbl\n",
    "\n",
    "from ReadFile import Read"
   ]
  },
  {
   "cell_type": "code",
   "execution_count": 26,
   "metadata": {
    "ExecuteTime": {
     "end_time": "2020-02-04T23:59:24.003059Z",
     "start_time": "2020-02-04T23:59:23.979271Z"
    }
   },
   "outputs": [],
   "source": [
    "class CenterOfMass:\n",
    "# Class to define COM position and velocity properties of a given galaxy \n",
    "# and simulation snapshot\n",
    "    \n",
    "    \n",
    "    def __init__(self, filename, ptype):\n",
    "    # Initialize the instance of this Class with the following properties:\n",
    "    \n",
    "        # read data in the given file using Read\n",
    "        self.time, self.total, self.data = Read(filename)                                                                                             \n",
    "\n",
    "        #create an array to store indexes of particles of desired Ptype                                \n",
    "        self.index = np.where(self.data['type'] == ptype)\n",
    "\n",
    "        # store the mass, positions, velocities of only the particles of the given type\n",
    "        # the following only gives the example of storing the mass\n",
    "        self.m = self.data['m'][self.index]\n",
    "        # write your own code to complete this for positions and velocities\n",
    "        \n",
    "    \n",
    " # spatial components      \n",
    "        self.x = self.data['x'][self.index]\n",
    "        self.y = self.data['y'][self.index]\n",
    "        self.z = self.data['z'][self.index]\n",
    "        \n",
    " # velocity component        \n",
    "        self.vx = self.data['vx'][self.index]\n",
    "        self.vy = self.data['vy'][self.index]\n",
    "        self.vz = self.data['vz'][self.index]\n",
    "\n",
    "\n",
    "    def COMdefine(self,a,b,c,m):\n",
    "    # Function to compute the center of mass position or velocity generically\n",
    "    # input: array (a,b,c) of positions or velocities and the mass\n",
    "    # returns: 3 floats  (the center of mass coordinates)\n",
    "\n",
    "        # write your own code to compute the generic COM using Eq. 1 in the homework instructions\n",
    "        # xcomponent Center of mass\n",
    "        Acom = (np.sum(a*m)/(np.sum(m)))\n",
    "        # ycomponent Center of mass\n",
    "        Bcom = (np.sum(b*m)/(np.sum(m)))\n",
    "        # zcomponent Center of mass\n",
    "        Ccom = (np.sum(c*m)/(np.sum(m)))\n",
    "        \n",
    "        return Acom, Bcom, Ccom\n",
    "    \n",
    "    \n",
    "    def COM_P(self, delta):\n",
    "    # Function to specifically return the center of mass position and velocity                                         \n",
    "    # input:                                                                                                           \n",
    "    #        particle type (1,2,3)                                                                                     \n",
    "    #        delta (tolerance)                                                                                         \n",
    "    # returns: One vector, with rows indicating:                                                                                                                                                                            \n",
    "    #       3D coordinates of the center of mass position (kpc)                                                             \n",
    "\n",
    "        # Center of Mass Position                                                                                      \n",
    "        ###########################                                                                                    \n",
    "\n",
    "        # Try a first guess at the COM position by calling COMdefine                                                   \n",
    "        XCOM, YCOM, ZCOM = self.COMdefine(self.x, self.y, self.z, self.m)\n",
    "        # compute the magnitude of the COM position vector.\n",
    "        # write your own code below\n",
    "        RCOM = np.sqrt((XCOM**2) + (YCOM**2) + (ZCOM**2))\n",
    "\n",
    "\n",
    "        # iterative process to determine the center of mass                                                            \n",
    "\n",
    "        # change reference frame to COM frame                                                                          \n",
    "        # compute the difference between particle coordinates                                                          \n",
    "        # and the first guess at COM position\n",
    "        # write your own code below\n",
    "        xNew = self.x - XCOM\n",
    "        yNew = self.y - YCOM\n",
    "        zNew = self.z - ZCOM\n",
    "        RNEW = np.sqrt((xNew**2) + (yNew**2) + (zNew**2))\n",
    "\n",
    "        # find the max 3D distance of all particles from the guessed COM                                               \n",
    "        # will re-start at half that radius (reduced radius)                                                           \n",
    "        RMAX = max(RNEW)/2.0\n",
    "        \n",
    "        # pick an initial value for the change in COM position                                                      \n",
    "        # between the first guess above and the new one computed from half that volume\n",
    "        # it should be larger than the input tolerance (delta) initially\n",
    "        CHANGE = 1000.0 # This value is in Kpc\n",
    "\n",
    "        # start iterative process to determine center of mass position                                                 \n",
    "        # delta is the tolerance for the difference in the old COM and the new one.    \n",
    "        \n",
    "        while (CHANGE > delta):\n",
    "            # select all particles within the reduced radius (starting from original x,y,z, m)\n",
    "            # write your own code below (hints, use np.where)\n",
    "            index2 = np.where(RNEW < RMAX)\n",
    "            x2 = self.x[index2]\n",
    "            y2 = self.y[index2]\n",
    "            z2 = self.z[index2]\n",
    "            m2 = self.m[index2]\n",
    "\n",
    "            # Refined COM position:                                                                                    \n",
    "            # compute the center of mass position using                                                                \n",
    "            # the particles in the reduced radius\n",
    "            # write your own code below\n",
    "            \n",
    "            \n",
    "            # New xcomponent Center of mass\n",
    "            #Acom2 = (np.sum(x2*m2)/(np.sum(m2)))\n",
    "        \n",
    "            # New ycomponent Center of mass\n",
    "            #Bcom2 = (np.sum(y2*m2)/(np.sum(m2)))\n",
    "        \n",
    "            # New zcomponent Center of mass\n",
    "            #Ccom2 = (np.sum(z2*m2)/(np.sum(m2)))\n",
    "            \n",
    "            \n",
    "            XCOM2, YCOM2, ZCOM2 = self.COMdefine(x2, y2, z2, m2)\n",
    "            \n",
    "            # compute the new 3D COM position\n",
    "            # write your own code below\n",
    "            \n",
    "            RCOM2 = np.sqrt((XCOM2**2) + (YCOM2**2) + (ZCOM2**2))\n",
    "\n",
    "            # determine the difference between the previous center of mass position                                    \n",
    "            # and the new one.                                                                                         \n",
    "            CHANGE = np.abs(RCOM - RCOM2)\n",
    "            # uncomment the following line if you wnat to check this                                                                                               \n",
    "            #print (\"CHANGE = \", CHANGE)                                                                                     \n",
    "           \n",
    "            # Before loop continues, reset : RMAX, particle separations and COM                                        \n",
    "\n",
    "            # reduce the volume by a factor of 2 again                                                                 \n",
    "            RMAX = RMAX/2.0\n",
    "            # check this.                                                                                              \n",
    "            #print (\"maxR\", RMAX)                                                                                      \n",
    "       \n",
    "            # Change the frame of reference to the newly computed COM.                                                 \n",
    "            # subtract the new COM\n",
    "            # write your own code below\n",
    "            xNew = x2 - XCOM2\n",
    "            yNew = y2 - YCOM2\n",
    "            zNew = z2 - ZCOM2\n",
    "            RNEW = np.sqrt((xNew**2) + (yNew**2) + (zNew**2))\n",
    "\n",
    "            # set the center of mass positions to the refined values                                                   \n",
    "            XCOM = XCOM2\n",
    "            YCOM = YCOM2\n",
    "            ZCOM = ZCOM2\n",
    "            RCOM = RCOM2\n",
    "\n",
    "            # create a vector to store the COM position                                                                                                                                                       \n",
    "            COMP = [XCOM, YCOM, ZCOM]\n",
    "\n",
    "        # set the correct units usint astropy and round all values\n",
    "        # and then return the COM positon vector\n",
    "        # write your own code below\n",
    "        \n",
    "        COMRound = np.around(COMP, decimals = 2)\n",
    "        \n",
    "        return COMRound\n",
    "        \n",
    "  \n",
    "\n",
    "    def COM_V(self, COMX,COMY,COMZ):\n",
    "        # Center of Mass velocity\n",
    "        # input: X, Y, Z positions of the COM\n",
    "        # returns 3D Vector of COM Velocities\n",
    "        \n",
    "        # the max distance from the center that we will use to determine the center of mass velocity                   \n",
    "        RVMAX = 15.0#*u.kpc\n",
    "\n",
    "        # determine the position of all particles relative to the center of mass position\n",
    "        # write your own code below\n",
    "        xV = self.x - COMX\n",
    "        yV = self.y - COMY\n",
    "        zV = self.z - COMZ\n",
    "        RV = np.sqrt((xV**2) + (yV**2) + (zV**2))\n",
    "        \n",
    "        # determine the index for those particles within the max radius\n",
    "        # write your own code below\n",
    "        indexV = np.where(RV < RVMAX)\n",
    "\n",
    "        # determine the velocity and mass of those particles within the mas radius\n",
    "        # write your own code below\n",
    "        vxnew = self.vx[indexV]\n",
    "        vynew = self.vy[indexV]\n",
    "        vznew = self.vz[indexV]\n",
    "        mnew = self.m[indexV]\n",
    "        \n",
    "        # compute the center of mass velocity using those particles\n",
    "        # write your own code below\n",
    "                    \n",
    "           \n",
    "                    \n",
    "        # New xcomponent Center of mass\n",
    "        VAcom = (np.sum(vxnew*mnew)/(np.sum(mnew)))\n",
    "        \n",
    "        # New ycomponent Center of mass\n",
    "        VBcom = (np.sum(vynew*mnew)/(np.sum(mnew)))\n",
    "        \n",
    "        # New zcomponent Center of mass\n",
    "        VCcom = (np.sum(vznew*mnew)/(np.sum(mnew)))\n",
    "        \n",
    "        VXCOM, VYCOM, VZCOM = VAcom, VBcom, VCcom\n",
    "\n",
    "        # create a vector to store the COM velocity\n",
    "        # set the correct units usint astropy\n",
    "        # round all values\n",
    "        # write your own code below\n",
    "        COMV = [VXCOM, VYCOM, VZCOM]\n",
    "\n",
    "        # return the COM vector                                                                                        \n",
    "        return COMV"
   ]
  },
  {
   "cell_type": "code",
   "execution_count": 27,
   "metadata": {
    "ExecuteTime": {
     "end_time": "2020-02-04T23:59:30.160978Z",
     "start_time": "2020-02-04T23:59:26.220455Z"
    }
   },
   "outputs": [],
   "source": [
    "# Create a Center of mass object for the MW, M31 and M33\n",
    "\n",
    "MWCOM = CenterOfMass(\"MW_000.txt\", 2)\n",
    "M31COM = CenterOfMass(\"M31_000.txt\", 2)\n",
    "M33COM = CenterOfMass(\"M33_000.txt\", 2)"
   ]
  },
  {
   "cell_type": "code",
   "execution_count": 28,
   "metadata": {
    "ExecuteTime": {
     "end_time": "2020-02-04T23:59:30.820428Z",
     "start_time": "2020-02-04T23:59:30.761163Z"
    }
   },
   "outputs": [],
   "source": [
    "# below gives you an example of calling the class's functions\n",
    "# MW:   store the position and velocity COM\n",
    "MW_COMP = MWCOM.COM_P(0.1)\n",
    "MW_COMV = MWCOM.COM_V(MW_COMP[0], MW_COMP[1], MW_COMP[2])"
   ]
  },
  {
   "cell_type": "code",
   "execution_count": null,
   "metadata": {},
   "outputs": [],
   "source": []
  },
  {
   "cell_type": "code",
   "execution_count": 29,
   "metadata": {},
   "outputs": [],
   "source": [
    "# M31:   store the position and velocity COM\n",
    "M31_COMP = M31COM.COM_P(0.1)\n",
    "M31_COMV = M31COM.COM_V(M31_COMP[0], M31_COMP[1], M31_COMP[2])\n",
    "\n",
    "# M33:   store the position and velocity COM\n",
    "M33_COMP = M33COM.COM_P(0.1)\n",
    "M33_COMV = M33COM.COM_V(M33_COMP[0], M33_COMP[1], M33_COMP[2])"
   ]
  },
  {
   "cell_type": "code",
   "execution_count": 30,
   "metadata": {},
   "outputs": [],
   "source": [
    "# now write your own code to answer questions\n"
   ]
  },
  {
   "cell_type": "code",
   "execution_count": 31,
   "metadata": {},
   "outputs": [
    {
     "data": {
      "text/plain": [
       "(array([-0.87,  2.39, -1.42]),\n",
       " array([-377.66,  611.43, -284.64]),\n",
       " array([-476.22,  491.44, -412.4 ]))"
      ]
     },
     "execution_count": 31,
     "metadata": {},
     "output_type": "execute_result"
    }
   ],
   "source": [
    "# Position of the disk of the galaxies\n",
    "MW_COMP, M31_COMP, M33_COMP"
   ]
  },
  {
   "cell_type": "code",
   "execution_count": 32,
   "metadata": {},
   "outputs": [
    {
     "data": {
      "text/plain": [
       "([-0.4706609578829796, 3.4070145777589267, -1.3254485915729262],\n",
       " [72.84563820183085, -72.1411787216906, 49.003268865712826],\n",
       " [44.42150450376545, 101.7844725572458, 142.2308822320602])"
      ]
     },
     "execution_count": 32,
     "metadata": {},
     "output_type": "execute_result"
    }
   ],
   "source": [
    "#velocities of disk of the galaxies\n",
    "MW_COMV, M31_COMV, M33_COMV"
   ]
  },
  {
   "cell_type": "code",
   "execution_count": 38,
   "metadata": {},
   "outputs": [
    {
     "name": "stdout",
     "output_type": "stream",
     "text": [
      "770.0641632752835\n"
     ]
    }
   ],
   "source": [
    "# Question 2\n",
    "\n",
    "# Separation between MW and M31\n",
    "Separation = -1*(np.sqrt((MW_COMP[0]**2)+(MW_COMP[1]**2)+(MW_COMP[2]**2)) - np.sqrt((M31_COMP[0]**2)+(M31_COMP[1]**2)+(M31_COMP[2]**2)))\n",
    "print(Separation)                                                                                                                         \n",
    "                                                                          "
   ]
  },
  {
   "cell_type": "code",
   "execution_count": 39,
   "metadata": {},
   "outputs": [
    {
     "name": "stdout",
     "output_type": "stream",
     "text": [
      "-109.94574210908466\n"
     ]
    }
   ],
   "source": [
    "#Relative Velocity between MW and M31\n",
    "RelVelocity = (np.sqrt((MW_COMV[0]**2)+(MW_COMV[1]**2)+(MW_COMV[2]**2)) - np.sqrt((M31_COMV[0]**2)+(M31_COMV[1]**2)+(M31_COMV[2]**2)))\n",
    "print(RelVelocity) "
   ]
  },
  {
   "cell_type": "code",
   "execution_count": null,
   "metadata": {},
   "outputs": [],
   "source": [
    "#Question 3"
   ]
  },
  {
   "cell_type": "code",
   "execution_count": 42,
   "metadata": {},
   "outputs": [
    {
     "name": "stdout",
     "output_type": "stream",
     "text": [
      "26.005044507727803\n"
     ]
    }
   ],
   "source": [
    "#Separation between M31 and M33\n",
    "Sep2 = (np.sqrt((M33_COMP[0]**2)+(M33_COMP[1]**2)+(M33_COMP[2]**2)) - np.sqrt((M31_COMP[0]**2)+(M31_COMP[1]**2)+(M31_COMP[2]**2)))\n",
    "print(Sep2)"
   ]
  },
  {
   "cell_type": "code",
   "execution_count": 41,
   "metadata": {},
   "outputs": [
    {
     "name": "stdout",
     "output_type": "stream",
     "text": [
      "66.82046164714845\n"
     ]
    }
   ],
   "source": [
    "# Relative velocity between M31 and M33\n",
    "RelVel2 = (np.sqrt((M33_COMV[0]**2)+(M33_COMV[1]**2)+(M33_COMV[2]**2)) - np.sqrt((M31_COMV[0]**2)+(M31_COMV[1]**2)+(M31_COMV[2]**2)))\n",
    "print(RelVel2) "
   ]
  },
  {
   "cell_type": "code",
   "execution_count": null,
   "metadata": {},
   "outputs": [],
   "source": [
    "#Question 4 :\n",
    "\n",
    "Because of gravity attracting objects from one galaxy to another, we need to keep track of where the material is at each timestep."
   ]
  }
 ],
 "metadata": {
  "kernelspec": {
   "display_name": "Python 3",
   "language": "python",
   "name": "python3"
  },
  "language_info": {
   "codemirror_mode": {
    "name": "ipython",
    "version": 3
   },
   "file_extension": ".py",
   "mimetype": "text/x-python",
   "name": "python",
   "nbconvert_exporter": "python",
   "pygments_lexer": "ipython3",
   "version": "3.7.1"
  },
  "varInspector": {
   "cols": {
    "lenName": 16,
    "lenType": 16,
    "lenVar": 40
   },
   "kernels_config": {
    "python": {
     "delete_cmd_postfix": "",
     "delete_cmd_prefix": "del ",
     "library": "var_list.py",
     "varRefreshCmd": "print(var_dic_list())"
    },
    "r": {
     "delete_cmd_postfix": ") ",
     "delete_cmd_prefix": "rm(",
     "library": "var_list.r",
     "varRefreshCmd": "cat(var_dic_list()) "
    }
   },
   "types_to_exclude": [
    "module",
    "function",
    "builtin_function_or_method",
    "instance",
    "_Feature"
   ],
   "window_display": false
  }
 },
 "nbformat": 4,
 "nbformat_minor": 2
}
