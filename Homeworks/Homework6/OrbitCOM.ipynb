{
 "cells": [
  {
   "cell_type": "code",
   "execution_count": 1,
   "metadata": {},
   "outputs": [],
   "source": [
    "# Homework 6 Template\n",
    "# Adrien Masini"
   ]
  },
  {
   "cell_type": "code",
   "execution_count": 2,
   "metadata": {},
   "outputs": [],
   "source": [
    "# import modules\n",
    "import numpy as np\n",
    "import astropy.units as u\n",
    "from astropy.constants import G\n",
    "\n",
    "# import plotting modules\n",
    "import matplotlib.pyplot as plt\n",
    "import matplotlib\n",
    "%matplotlib inline\n",
    "\n",
    "# my modules\n",
    "from ReadFile import Read\n",
    "from CenterOfMass import CenterOfMass\n",
    "\n"
   ]
  },
  {
   "cell_type": "code",
   "execution_count": null,
   "metadata": {},
   "outputs": [],
   "source": [
    "def OrbitCOM(galaxy, start, end, n=5) :\n",
    "    \"\"\"function that loops over all the desired snapshots to compute the COM pos and vel as a function of time.\n",
    "    inputs: galaxy the name of the galaxy, e.g. “MW”, start the number of the first snapshot to be read in., end the number of the last snapshot to be read in., n an integer indicating the intervals over which you will return the COM.\n",
    "          \n",
    "    returns: \n",
    "    \"\"\"\n",
    "    \n",
    "    # compose the filename for output\n",
    "    \n",
    "    fileout = \"Orbit_\"+galaxy+\".txt\"\n",
    "    \n",
    "    #  set tolerance and VolDec for calculating COM_P in CenterOfMass\n",
    "    # for M33 that is stripped more, use different values for VolDec\n",
    "    \n",
    "    if (galaxy == 'M33'):\n",
    "        delta = 0.1\n",
    "        VolDec=4\n",
    "    else :\n",
    "        delta = 0.1\n",
    "        VolDec = 2\n",
    "        \n",
    "    \n",
    "    # generate the snapshot id sequence \n",
    "    # it is always a good idea to also check if the input is eligible (not required)\n",
    "    \n",
    "    snap_ids = np.arange(start, end+1, step=n)\n",
    "    \n",
    "    # initialize the array for orbital info: t, x, y, z, vx, vy, vz of COM\n",
    "    \n",
    "    orbit = np.zeros([snap_ids.size, 7])\n",
    "    \n",
    "    for i, snap_id in enumerate(snap_ids):\n",
    "        \n",
    "        # compose the data filename (be careful about the folder)\n",
    "        \n",
    "        # Determine Filename\n",
    "        # add a string of the filenumber to the value \"000\"\n",
    "        ilbl = '000' + str(snap_id)\n",
    "        # remove all but the last 3 digits\n",
    "        ilbl = ilbl[-3:]\n",
    "        # create filenames\n",
    "        filename='%s_'%(galaxy) + ilbl + '.txt'\n",
    "        \n",
    "        # Initialize an instance of CenterOfMass class, using disk particles\n",
    "        \n",
    "        COM = CenterOfMass(filename, 2)\n",
    "        \n",
    "        # Store the COM pos and vel. Remember that now COM_P required VolDec\n",
    "       \n",
    "        COM_P = COM.COM_P(delta, VolDec)\n",
    "        COM_V = COM.COM_V(COM_P[0],COM_P[1],COM_P[2])\n",
    "        \n",
    "        # store the time, pos, vel in ith element of the orbit array,  without units (.value) \n",
    "        # note that you can store \n",
    "        # a[i] = var1, *tuple(array1)\n",
    "        \n",
    "        orbit[i] = COM.time.value/1000, *tuple(COM_P.value), *tuple(COM_V.value)\n",
    "        \n",
    "        \n",
    "        # print snap_id to see the progress\n",
    "        print(snap_id)\n",
    "   \n",
    "        \n",
    "    # write the data to a file\n",
    "    # we do this because we don't want to have to repeat this process \n",
    "    # this code should only have to be called once per galaxy.\n",
    "    np.savetxt(fileout, orbit, fmt = \"%11.3f\"*7, comments='#',\n",
    "               header=\"{:>10s}{:>11s}{:>11s}{:>11s}{:>11s}{:>11s}{:>11s}\"\\\n",
    "                      .format('t', 'x', 'y', 'z', 'vx', 'vy', 'vz'))"
   ]
  },
  {
   "cell_type": "code",
   "execution_count": null,
   "metadata": {},
   "outputs": [
    {
     "name": "stdout",
     "output_type": "stream",
     "text": [
      "0\n",
      "5\n",
      "10\n"
     ]
    }
   ],
   "source": [
    "# Recover the orbits and generate the COM files for each galaxy\n",
    "# read in 800 snapshots in intervals of n=5\n",
    "# Note: This might take a little while - test your code with a smaller number of snapshots first! \n",
    "\n",
    "OrbitCOM('MW', 0, 800, n=5)\n",
    "OrbitCOM('M31', 0, 800, n=5)\n",
    "OrbitCOM('M33', 0, 800, n=5)\n"
   ]
  },
  {
   "cell_type": "code",
   "execution_count": null,
   "metadata": {},
   "outputs": [],
   "source": [
    "# Read in the data files for the orbits of each galaxy that you just created\n",
    "# headers:  t, x, y, z, vx, vy, vz\n",
    "# using np.genfromtxt\n",
    "\n",
    "Orbit_MW_data = np.genfromtxt(\"Orbit_MW.txt\")\n",
    "Orbit_M31_data = np.genfromtxt(\"Orbit_M31.txt\")\n",
    "Orbit_M33_data = np.genfromtxt(\"Orbit_M33.txt\")"
   ]
  },
  {
   "cell_type": "code",
   "execution_count": null,
   "metadata": {},
   "outputs": [],
   "source": [
    "# function to compute the magnitude of the difference between two vectors \n",
    "# You can use this function to return both the relative position and relative velocity for two \n",
    "# galaxies over the entire orbit  \n",
    "\n",
    "\n",
    "def V_C(vc1, vc2):\n",
    "    \n",
    "    Sub = vc1-vc2\n",
    "    \n",
    "    return np.sqrt(Sub[:,0]**2+Sub[:,1]**2+Sub[:,2]**2)"
   ]
  },
  {
   "cell_type": "code",
   "execution_count": null,
   "metadata": {},
   "outputs": [],
   "source": [
    "# Determine the magnitude of the relative position and velocities \n",
    "\n",
    "# For MW and M31\n",
    "MW_M31 = V_C(OrbMW_data[:, 1:4], OrbM31_data[:, 1:4])\n",
    "VMW_M31 = V_C(OrbMW_data[:, 4:8], OrbM31_data[:, 4:8])\n",
    "\n",
    "# For M33 and M31\n",
    "M33_M31 = V_C(OrbM33_data[:, 1:4], OrbM31_data[:, 1:4])\n",
    "VM33_M31 = V_C(OrbM33_data[:, 4:8], OrbM31_data[:, 4:8])"
   ]
  },
  {
   "cell_type": "code",
   "execution_count": null,
   "metadata": {},
   "outputs": [],
   "source": [
    "# Plot the Orbit of the galaxies \n",
    "\n",
    "# MW_M31 SEPARATION\n",
    "\n",
    "fig = plt.figure(figsize=(10,10))\n",
    "ax = plt.subplot(111)\n",
    "plt.plot(OrbitMW_data[:,0], MWM31, color='blue', linewidth=4, label='MW_M31 Separation')\n",
    "\n",
    "# Add axis labels\n",
    "plt.xlabel('Time (Gyr)', fontsize=22)\n",
    "plt.ylabel('Separation (kpc)', fontsize=22)\n",
    "\n",
    "label_size = 22\n",
    "matplotlib.rcParams['xtick.labelsize'] = label_size \n",
    "matplotlib.rcParams['ytick.labelsize'] = label_size\n",
    "\n",
    "# Legend\n",
    "legend = ax.legend(loc='upper right',fontsize='x-large')\n",
    "\n",
    "## M33_M31 SEPARATION\n",
    "fig = plt.figure(figsize=(10,10))\n",
    "ax = plt.subplot(111)\n",
    "plt.plot(OrbitM31_data[:,0], M33M31, color='white', linewidth=4, label='M33_M31 Separation')\n",
    "\n",
    "# Axis labels\n",
    "plt.xlabel('Time (Gyr)', fontsize=22)\n",
    "plt.ylabel('Separation (kpc)', fontsize=22)\n",
    "\n",
    "label_size = 22\n",
    "matplotlib.rcParams['xtick.labelsize'] = label_size \n",
    "matplotlib.rcParams['ytick.labelsize'] = label_size\n",
    "\n",
    "# add a legend\n",
    "legend = ax.legend(loc='upper right',fontsize='x-large')"
   ]
  },
  {
   "cell_type": "code",
   "execution_count": null,
   "metadata": {},
   "outputs": [],
   "source": [
    "# Plot the orbital velocities of the galaxies \n",
    "\n",
    "# MW - M31 ORBITAL VEL\n",
    "\n",
    "fig = plt.figure(figsize=(10,10))\n",
    "ax = plt.subplot(111)\n",
    "plt.plot(OrbitMW_data[:,0], VMWM31, color='salmon', linewidth=4, label='MW-M31 Orbital Vel')\n",
    "\n",
    "# Add axis labels\n",
    "plt.xlabel('Time (Gyr)', fontsize=22)\n",
    "plt.ylabel('Relative Velocity (km/s)', fontsize=22)\n",
    "\n",
    "\n",
    "#adjust tick label font size\n",
    "label_size = 22\n",
    "matplotlib.rcParams['xtick.labelsize'] = label_size \n",
    "matplotlib.rcParams['ytick.labelsize'] = label_size\n",
    "\n",
    "# add a legend with some customizations.\n",
    "legend = ax.legend(loc='upper right',fontsize='x-large')\n",
    "\n",
    "# M33_M31 ORBITAL VELOCITY\n",
    "\n",
    "fig = plt.figure(figsize=(10,10))\n",
    "ax = plt.subplot(111)\n",
    "plt.plot(OrbitM31_data[:,0], VM33M31, color='plum', linewidth=4, label='M33-M31 Orbital Vel')\n",
    "\n",
    "# Add axis labels\n",
    "plt.xlabel('Time (Gyr)', fontsize=22)\n",
    "plt.ylabel('Relative Velocity (km/s)', fontsize=22)\n",
    "#adjust tick label font size\n",
    "label_size = 22\n",
    "matplotlib.rcParams['xtick.labelsize'] = label_size \n",
    "matplotlib.rcParams['ytick.labelsize'] = label_size\n",
    "\n",
    "# add a legend with some customizations.\n",
    "legend = ax.legend(loc='upper right',fontsize='x-large')"
   ]
  },
  {
   "cell_type": "code",
   "execution_count": null,
   "metadata": {},
   "outputs": [],
   "source": []
  },
  {
   "cell_type": "code",
   "execution_count": null,
   "metadata": {},
   "outputs": [],
   "source": []
  },
  {
   "cell_type": "code",
   "execution_count": null,
   "metadata": {},
   "outputs": [],
   "source": []
  },
  {
   "cell_type": "code",
   "execution_count": null,
   "metadata": {},
   "outputs": [],
   "source": []
  },
  {
   "cell_type": "code",
   "execution_count": null,
   "metadata": {},
   "outputs": [],
   "source": []
  },
  {
   "cell_type": "code",
   "execution_count": null,
   "metadata": {},
   "outputs": [],
   "source": []
  }
 ],
 "metadata": {
  "kernelspec": {
   "display_name": "Python 3",
   "language": "python",
   "name": "python3"
  },
  "language_info": {
   "codemirror_mode": {
    "name": "ipython",
    "version": 3
   },
   "file_extension": ".py",
   "mimetype": "text/x-python",
   "name": "python",
   "nbconvert_exporter": "python",
   "pygments_lexer": "ipython3",
   "version": "3.7.1"
  }
 },
 "nbformat": 4,
 "nbformat_minor": 2
}
