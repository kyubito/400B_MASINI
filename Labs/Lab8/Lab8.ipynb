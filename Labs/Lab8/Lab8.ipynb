{
 "cells": [
  {
   "cell_type": "markdown",
   "metadata": {},
   "source": [
    "# Lab 8 : Star Formation "
   ]
  },
  {
   "cell_type": "code",
   "execution_count": 13,
   "metadata": {},
   "outputs": [],
   "source": [
    "import numpy as np\n",
    "from astropy import units as u\n",
    "from astropy import constants as const\n",
    "\n",
    "import matplotlib\n",
    "import matplotlib.pyplot as plt\n",
    "from matplotlib.colors import LogNorm\n",
    "%matplotlib inline"
   ]
  },
  {
   "cell_type": "markdown",
   "metadata": {},
   "source": [
    "# Part A\n",
    "\n",
    "Create a function that returns the SFR for a given luminosity (NUV, FUV, TIR, Halpha)\n",
    "\n",
    "$Log( {\\rm SFR} (M_\\odot/year)) = Log(Lx (erg/s)) - Log(Cx)$ \n",
    "\n",
    "Including corrections for dust absorption \n",
    "\n",
    "Kennicutt & Evans 2012 ARA&A Equation 12 and Table 1, 2"
   ]
  },
  {
   "cell_type": "code",
   "execution_count": 37,
   "metadata": {},
   "outputs": [],
   "source": [
    "# Fct that return the star formation rate given the L of the galaxy\n",
    "def Starformationrate(L, Type, Tir) :\n",
    "    \"\"\"Compute star formation rate of a galaxy following K&E 2012 eq 12\n",
    "    Inputs : \n",
    "        L = Luminosity\n",
    "        Type = string that list the wavelength (FUV, NUV, TIR, Halpha)\n",
    "    Returns : \n",
    "        log of the star Formation rate (Msun/year)\"\"\"\n",
    "    \n",
    "    if (Type == 'Fuv') :\n",
    "        logCx = 43.35 # Calibration from L to SFR from table 1 (K&E 2012)\n",
    "        Tirc = 0.46 # correction for dust absorption from table 2\n",
    "    elif (Type == 'Nuv'):\n",
    "        logCx = 43.17\n",
    "        Tirc = 0.27\n",
    "    elif (Type == 'Halpha'):\n",
    "        logCx = 41.27\n",
    "        Tirc = 0.0024\n",
    "    elif (Type == 'Tir'):\n",
    "        logCx = 43.41\n",
    "        Tirc = 0\n",
    "    else :\n",
    "        print(\"Missing Wavelength : FUV, NUV, Halpha, TIR\")\n",
    "    \n",
    "    #correct the L for dust\n",
    "    Lnew = L + Tirc*Tir\n",
    "    \n",
    "    return np.log10(Lnew) - logCx"
   ]
  },
  {
   "cell_type": "markdown",
   "metadata": {},
   "source": [
    "Let's try to reproduce SFRs derived for galaxies from UV luminosities measured with Galex. \n",
    "\n",
    "Using Table 1 from Lee et al. 2009\n",
    "https://ui.adsabs.harvard.edu/abs/2009ApJ...706..599L/abstract\n",
    "\n",
    "We will use galaxy properties from NED:\n",
    "https://ned.ipac.caltech.edu/"
   ]
  },
  {
   "cell_type": "code",
   "execution_count": 38,
   "metadata": {},
   "outputs": [],
   "source": [
    "Lsunergs = const.L_sun.to(u.erg/u.s).value"
   ]
  },
  {
   "cell_type": "code",
   "execution_count": 39,
   "metadata": {},
   "outputs": [
    {
     "data": {
      "text/plain": [
       "-2.3373504191027266"
      ]
     },
     "execution_count": 39,
     "metadata": {},
     "output_type": "execute_result"
    }
   ],
   "source": [
    "#  WLM Dwarf Irregular Galaxy\n",
    "#Log(SFR) from UV is 2.21 (Lee & Al 2009)\n",
    "#From Ned WLM NUV L GALEX 1.71e7 Msun\n",
    "#From NED WLM NIR L IRAC 2.48e6 Lsun\n",
    "\n",
    "NUV_WLM = 1.71e7*Lsunergs\n",
    "TIR_WLM = 2.48e6*Lsunergs\n",
    "\n",
    "Starformationrate(NUV_WLM, 'Nuv', TIR_WLM)\n"
   ]
  },
  {
   "cell_type": "code",
   "execution_count": 44,
   "metadata": {},
   "outputs": [
    {
     "data": {
      "text/plain": [
       "-0.8055527449424105"
      ]
     },
     "execution_count": 44,
     "metadata": {},
     "output_type": "execute_result"
    }
   ],
   "source": [
    "# NGC 24 Sc galaxy\n",
    "# Lee&Al 2009 log(SFR) derived from UV as -0.7\n",
    "# From NED : NGC 24 NUV L GAlex 2.9e8 Lsun\n",
    "# From NED : NGC 24 NUV L Mips 3.09e8 Lsun\n",
    "# From NED : NGC 24 NUV L 2Mass 8.34e8 Lsun\n",
    "\n",
    "NUV_N24 = 2.96e8*Lsunergs\n",
    "TIR_N24 = 3.09e8*Lsunergs + 8.34e8*Lsunergs\n",
    "\n",
    "Starformationrate(NUV_N24, 'Nuv', TIR_N24)"
   ]
  },
  {
   "cell_type": "markdown",
   "metadata": {},
   "source": [
    "# Part B Star formation main sequence\n",
    "\n",
    "Write a function that returns the average SFR of a galaxy at a given redshift. \n",
    "\n",
    "What is the average SFR of a MW mass galaxy today? at z=1?\n",
    "\n",
    "Plot the SFR main sequence for a few different redshifts.\n",
    "\n",
    "\n",
    "From Whitaker 2012:\n",
    "\n",
    "log(SFR) = $\\alpha(z)({\\rm log}M_\\ast - 10.5) + \\beta(z)$\n",
    "\n",
    "$\\alpha(z) = 0.7 - 0.13z$\n",
    "\n",
    "$\\beta(z) = 0.38 + 1.14z - 0.19z^2$"
   ]
  },
  {
   "cell_type": "code",
   "execution_count": null,
   "metadata": {},
   "outputs": [],
   "source": []
  },
  {
   "cell_type": "code",
   "execution_count": null,
   "metadata": {},
   "outputs": [],
   "source": [
    "# MW at z=0"
   ]
  },
  {
   "cell_type": "code",
   "execution_count": null,
   "metadata": {},
   "outputs": [],
   "source": [
    "# MW at z = 1\n"
   ]
  },
  {
   "cell_type": "code",
   "execution_count": null,
   "metadata": {},
   "outputs": [],
   "source": [
    "# create an array of stellar masses\n"
   ]
  },
  {
   "cell_type": "code",
   "execution_count": null,
   "metadata": {},
   "outputs": [],
   "source": [
    "\n",
    "fig = plt.figure(figsize=(8,8), dpi=500)\n",
    "ax = plt.subplot(111)\n",
    "\n",
    "# add log log plots\n",
    "\n",
    "\n",
    "# Add axis labels\n",
    "plt.xlabel('Log (Mstar (M$_\\odot$))', fontsize=12)\n",
    "plt.ylabel('Log(SFR (M$_\\odot$/year))', fontsize=12)\n",
    "\n",
    "\n",
    "#adjust tick label font size\n",
    "label_size = 12\n",
    "matplotlib.rcParams['xtick.labelsize'] = label_size \n",
    "matplotlib.rcParams['ytick.labelsize'] = label_size\n",
    "\n",
    "# add a legend with some customizations.\n",
    "legend = ax.legend(loc='upper left',fontsize='x-large')\n"
   ]
  },
  {
   "cell_type": "markdown",
   "metadata": {},
   "source": [
    "# Part C  Starbursts\n",
    "\n",
    "What are the star formation rates for :\n",
    "\n",
    "LIRG: $10^{11}$ L$_\\odot$\n",
    "\n",
    "ULIRG: $10^{12} $ L$_\\odot$\n",
    "\n",
    "HLIRG: $10^{13} $ L$_\\odot$"
   ]
  },
  {
   "cell_type": "code",
   "execution_count": null,
   "metadata": {},
   "outputs": [],
   "source": [
    "# normal galaxies \n"
   ]
  },
  {
   "cell_type": "code",
   "execution_count": null,
   "metadata": {},
   "outputs": [],
   "source": [
    "# LIRGs  \n"
   ]
  },
  {
   "cell_type": "code",
   "execution_count": null,
   "metadata": {},
   "outputs": [],
   "source": [
    "# ULIRGs"
   ]
  },
  {
   "cell_type": "code",
   "execution_count": null,
   "metadata": {},
   "outputs": [],
   "source": [
    "# HLIRGs"
   ]
  },
  {
   "cell_type": "code",
   "execution_count": null,
   "metadata": {},
   "outputs": [],
   "source": []
  }
 ],
 "metadata": {
  "kernelspec": {
   "display_name": "Python 3",
   "language": "python",
   "name": "python3"
  },
  "language_info": {
   "codemirror_mode": {
    "name": "ipython",
    "version": 3
   },
   "file_extension": ".py",
   "mimetype": "text/x-python",
   "name": "python",
   "nbconvert_exporter": "python",
   "pygments_lexer": "ipython3",
   "version": "3.7.1"
  }
 },
 "nbformat": 4,
 "nbformat_minor": 4
}
