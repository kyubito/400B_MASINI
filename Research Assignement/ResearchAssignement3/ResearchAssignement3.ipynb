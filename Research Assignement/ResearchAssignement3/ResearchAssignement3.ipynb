{
 "cells": [
  {
   "cell_type": "markdown",
   "metadata": {},
   "source": [
    "Research Assignement 3\n",
    "Adrien Masini"
   ]
  },
  {
   "cell_type": "markdown",
   "metadata": {},
   "source": [
    "Topic : Tidal Evolution of M33’s Dark Matter Halo: Mass loss of Dark Matter and changes to\n",
    "internal dark matter profile"
   ]
  },
  {
   "cell_type": "markdown",
   "metadata": {},
   "source": [
    "Question : How does M33's Dark Matter profile owing to mass loss evolve over time due to tidal forces ?"
   ]
  },
  {
   "cell_type": "markdown",
   "metadata": {},
   "source": [
    "Plot : Density profile Of M33's Dark Matter halo"
   ]
  },
  {
   "cell_type": "code",
   "execution_count": null,
   "metadata": {},
   "outputs": [],
   "source": [
    "#Following Lab 6\n",
    "\n",
    "# To plot density profile\n",
    "# I will need to use the MassEnclosed function from MassProfile code we did in Homework 5 to return the mass profile\n",
    "# of M33's halo\n",
    "# Compute the half mass radius for the halo\n",
    "\n",
    "# I will need the CenterOfMass function to track the position and velocity of each galaxy\n",
    "# Also use OrbitCOM HW6 and OrbitIntegration from HW 7 to combine the position of the galaxies and the behavior of \n",
    "# the dark matter halo of M33"
   ]
  },
  {
   "cell_type": "code",
   "execution_count": null,
   "metadata": {},
   "outputs": [],
   "source": [
    "# import modules\n",
    "import numpy as np\n",
    "import astropy.units as u\n",
    "from astropy.constants import G\n",
    "\n",
    "# import plotting modules\n",
    "import matplotlib.pyplot as plt\n",
    "import matplotlib\n",
    "%matplotlib inline\n",
    "\n",
    "# my modules\n",
    "from ReadFile import Read\n",
    "from CenterOfMass2 import CenterOfMass\n",
    "import OrbitCOM\n",
    "from M33AnalyticOrbit import OrbitIntegration\n",
    "\n",
    "\n"
   ]
  }
 ],
 "metadata": {
  "kernelspec": {
   "display_name": "Python 3",
   "language": "python",
   "name": "python3"
  },
  "language_info": {
   "codemirror_mode": {
    "name": "ipython",
    "version": 3
   },
   "file_extension": ".py",
   "mimetype": "text/x-python",
   "name": "python",
   "nbconvert_exporter": "python",
   "pygments_lexer": "ipython3",
   "version": "3.7.1"
  }
 },
 "nbformat": 4,
 "nbformat_minor": 2
}
